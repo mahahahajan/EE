{
 "cells": [
  {
   "cell_type": "markdown",
   "metadata": {},
   "source": [
    "Data Science Lab\n",
    "Pulkit Mahajan, Anuv Gupta, Jason Gu "
   ]
  },
  {
   "cell_type": "code",
   "execution_count": 1,
   "metadata": {},
   "outputs": [],
   "source": [
    "#imports Cell\n",
    "import numpy\n",
    "import matplotlib.pyplot as plt\n",
    "import math, random\n",
    "import pandas"
   ]
  },
  {
   "cell_type": "markdown",
   "metadata": {},
   "source": [
    "1. Create 1000 samples from a Gaussian distribution with mean -10 and standard deviation 5. \n",
    "   Create another 1000 samples from another independent Gaussian with mean 10 and standard deviation 5."
   ]
  },
  {
   "cell_type": "code",
   "execution_count": 2,
   "metadata": {},
   "outputs": [],
   "source": [
    "# numpy.random.normal samples Gaussian Distribution\n",
    "x = numpy.random.normal(-10, 5, 1000)"
   ]
  },
  {
   "cell_type": "code",
   "execution_count": 3,
   "metadata": {},
   "outputs": [],
   "source": [
    "y = numpy.random.normal(10, 5, 1000)\n",
    "# print(y)"
   ]
  },
  {
   "cell_type": "code",
   "execution_count": 4,
   "metadata": {},
   "outputs": [],
   "source": [
    "combinArr = []\n",
    "combinArr = x + y "
   ]
  },
  {
   "cell_type": "code",
   "execution_count": 5,
   "metadata": {},
   "outputs": [],
   "source": [
    "#This doesn't look right - why?\n",
    "# for i in range(1000):\n",
    "#     combinArr = x[i] + y[i];"
   ]
  },
  {
   "cell_type": "code",
   "execution_count": 6,
   "metadata": {},
   "outputs": [
    {
     "data": {
      "image/png": "[encoded data removed]",
      "text/plain": [
       "<Figure size 432x288 with 1 Axes>"
      ]
     },
     "metadata": {
      "needs_background": "light"
     },
     "output_type": "display_data"
    }
   ],
   "source": [
    "plt.hist(combinArr);"
   ]
  },
  {
   "cell_type": "code",
   "execution_count": 7,
   "metadata": {},
   "outputs": [
    {
     "name": "stdout",
     "output_type": "stream",
     "text": [
      "Mean is -0.25147395386856647\n",
      "Variance is 47.57272670435879\n"
     ]
    }
   ],
   "source": [
    "print(\"Mean is \" + str(combinArr.mean()))\n",
    "print(\"Variance is \" + str(combinArr.var()))"
   ]
  },
  {
   "cell_type": "markdown",
   "metadata": {},
   "source": [
    "Let Xi be an iid Bernoulli random variable with value {-1,1}.\n",
    "Look at the random variable Zn = 1/sqrt(n) SUM(Xi). By taking 1000 draws from Zn, plot its histogram. \n",
    "Check that for small n (say, 5-10) Zn does not look that much like a Gaussian, but when n is bigger \n",
    "(already by the time n = 30 or 50) it looks much more like a Gaussian. \n",
    "Check also for much bigger n: n = 250, to see that at this point, one can really see the bell curve."
   ]
  },
  {
   "cell_type": "code",
   "execution_count": 8,
   "metadata": {},
   "outputs": [],
   "source": [
    "# randomVar = []\n",
    "# for i in range(1000):\n",
    "#     idx = ((2/1000) * i) + -1;\n",
    "#     sqrtPart=\"\"\n",
    "#     sumPart = []\n",
    "#     if i == 0: \n",
    "#         sqrtPart = 0\n",
    "#         sumPart.append(0)\n",
    "#     else:\n",
    "#         sqrtPart = 1 / math.sqrt(i)\n",
    "#         sumPart.append( (sumPart[i-1] + i) * sqrtPart)\n",
    "\n",
    "def bernoulli(sampleNum):\n",
    "    #Cant put for loop outside - so what is this syntax doing?\n",
    "    bVar = [(1/math.sqrt(sampleNum)) * sum([random.choice([-1,1]) for i in range(1, sampleNum+1)]) for x in range(1000) ]\n",
    "    plt.hist(bVar)\n",
    "    plt.show()\n",
    "    return bVar"
   ]
  },
  {
   "cell_type": "code",
   "execution_count": 9,
   "metadata": {},
   "outputs": [
    {
     "data": {
      "image/png": "[encoded data removed]",
      "text/plain": [
       "<Figure size 432x288 with 1 Axes>"
      ]
     },
     "metadata": {
      "needs_background": "light"
     },
     "output_type": "display_data"
    }
   ],
   "source": [
    "bVar1000 = bernoulli(1000)\n",
    "# plt.hist(bVar1000)"
   ]
  },
  {
   "cell_type": "code",
   "execution_count": 10,
   "metadata": {},
   "outputs": [
    {
     "data": {
      "image/png": "[encoded data removed]",
      "text/plain": [
       "<Figure size 432x288 with 1 Axes>"
      ]
     },
     "metadata": {
      "needs_background": "light"
     },
     "output_type": "display_data"
    }
   ],
   "source": [
    "bVar5 = bernoulli(5)"
   ]
  },
  {
   "cell_type": "code",
   "execution_count": 11,
   "metadata": {},
   "outputs": [
    {
     "data": {
      "image/png": "[encoded data removed]",
      "text/plain": [
       "<Figure size 432x288 with 1 Axes>"
      ]
     },
     "metadata": {
      "needs_background": "light"
     },
     "output_type": "display_data"
    }
   ],
   "source": [
    "bVar10 = bernoulli(10)"
   ]
  },
  {
   "cell_type": "code",
   "execution_count": 12,
   "metadata": {},
   "outputs": [
    {
     "data": {
      "image/png": "[encoded data removed]",
      "text/plain": [
       "<Figure size 432x288 with 1 Axes>"
      ]
     },
     "metadata": {
      "needs_background": "light"
     },
     "output_type": "display_data"
    }
   ],
   "source": [
    "bVar45 = bernoulli(45)"
   ]
  },
  {
   "cell_type": "code",
   "execution_count": 13,
   "metadata": {},
   "outputs": [
    {
     "data": {
      "image/png": "[encoded data removed]",
      "text/plain": [
       "<Figure size 432x288 with 1 Axes>"
      ]
     },
     "metadata": {
      "needs_background": "light"
     },
     "output_type": "display_data"
    }
   ],
   "source": [
    "bVar250 = bernoulli(250)"
   ]
  },
  {
   "cell_type": "markdown",
   "metadata": {},
   "source": [
    "3. Estimate the mean and standard deviation from 1 dimensional data: \n",
    "   generate 25,000 samples from a Gaussian distribution with mean 0 and standard deviation 5. \n",
    "   Then estimate the mean and standard deviation of this gaussian using elementary numpy commands, \n",
    "   i.e., addition, multiplication, division (do not use a command that takes data and returns \n",
    "   the mean or standard deviation)."
   ]
  },
  {
   "cell_type": "code",
   "execution_count": 14,
   "metadata": {},
   "outputs": [],
   "source": [
    "gauss = numpy.random.normal(0, 5, 25000)"
   ]
  },
  {
   "cell_type": "code",
   "execution_count": 15,
   "metadata": {},
   "outputs": [],
   "source": [
    "def myMean(arr, num):\n",
    "    return sum(arr)/num"
   ]
  },
  {
   "cell_type": "code",
   "execution_count": 16,
   "metadata": {},
   "outputs": [],
   "source": [
    "def myStdDev(origArr, mean, num):\n",
    "    loopPart = [((curr - mean)**2) for curr in origArr]\n",
    "    stdDev = math.sqrt(sum(loopPart)/num)\n",
    "    return stdDev"
   ]
  },
  {
   "cell_type": "code",
   "execution_count": 17,
   "metadata": {
    "scrolled": false
   },
   "outputs": [
    {
     "name": "stdout",
     "output_type": "stream",
     "text": [
      "Mean is: -0.06114548161543833\n",
      "Var is: 5.001690121149467\n"
     ]
    }
   ],
   "source": [
    "#Estimate the Mean and Standard Deviation\n",
    "mean = myMean(gauss, 25000)\n",
    "# sum(gauss)/250000\n",
    "print(\"Mean is: \" + str(mean))\n",
    "# std = sqrt(mean(abs(x - x.mean())**2)).\n",
    "#loop through each point,subtract mean, and square\n",
    "stdDev = myStdDev(gauss, mean, 25000)\n",
    "print(\"Var is: \" + str(stdDev))"
   ]
  },
  {
   "cell_type": "markdown",
   "metadata": {},
   "source": [
    "Estimate the mean and covariance matrix for multi-dimensional data: generate 10,000 samples of 2 dimensional data from the Gaussian distribution\n",
    "(Xi) = N([-5],[20 0.8])  \n",
    "(Yi) &nbsp;&nbsp;&nbsp;&nbsp;&nbsp;&nbsp;([ 5] [0.8 30]) \n",
    "\n"
   ]
  },
  {
   "cell_type": "code",
   "execution_count": 18,
   "metadata": {},
   "outputs": [],
   "source": [
    "#generate 10,000 samples of 2 dimensional data from the Gaussian distribution\n",
    "# Use numpy.random.multivariate_normal\n",
    "meanArr = [-5, 5]\n",
    "covArr = [[20, .8], [.8, 30]]\n",
    "x, y = numpy.random.multivariate_normal(meanArr, covArr, 10000).T"
   ]
  },
  {
   "cell_type": "code",
   "execution_count": 19,
   "metadata": {},
   "outputs": [
    {
     "name": "stdout",
     "output_type": "stream",
     "text": [
      "X mean is: -4.934308150834433\n",
      "X var is: 19.464558046882388\n"
     ]
    }
   ],
   "source": [
    "#x\n",
    "xMean = myMean(x, 10000)\n",
    "#Variance is stdDeviation^2\n",
    "xVar = (myStdDev(x, xMean, 10000))**2\n",
    "print(\"X mean is: \" + str(xMean))\n",
    "print(\"X var is: \" + str(xVar))"
   ]
  },
  {
   "cell_type": "code",
   "execution_count": 20,
   "metadata": {},
   "outputs": [],
   "source": [
    "#y\n",
    "yMean = myMean(y, 10000)\n",
    "#Variance is stdDeviation^2\n",
    "yVar = (myStdDev(y, yMean, 10000))**2"
   ]
  },
  {
   "cell_type": "code",
   "execution_count": 21,
   "metadata": {},
   "outputs": [
    {
     "name": "stdout",
     "output_type": "stream",
     "text": [
      "0.7413181625892159\n"
     ]
    }
   ],
   "source": [
    "#cov\n",
    "covXY = 1/(10000-1) * sum( [(xVal-xMean) * (yVal - yMean) for xVal, yVal in zip(x, y)])\n",
    "print(covXY)"
   ]
  },
  {
   "cell_type": "markdown",
   "metadata": {},
   "source": [
    "Then, estimate the mean and covariance matrix for this multi-dimensional data using elemen- tary numpy commands, i.e., addition, multiplication, division (do not use a command that takes data and returns the mean or standard deviation)."
   ]
  },
  {
   "cell_type": "code",
   "execution_count": 22,
   "metadata": {},
   "outputs": [
    {
     "name": "stdout",
     "output_type": "stream",
     "text": [
      "Mean Matrix is: [-4.934308150834433, 4.8901074210481]\n",
      "Covariance Matrix is: [[19.464558046882388, 0.7413181625892159], [0.7413181625892159, 29.93920675631238]]\n"
     ]
    }
   ],
   "source": [
    "meanMatrix = [xMean, yMean]\n",
    "print(\"Mean Matrix is: \" + str(meanMatrix))\n",
    "covMatrix = [[xVar, covXY], [covXY,yVar]]\n",
    "print(\"Covariance Matrix is: \" + str(covMatrix))"
   ]
  },
  {
   "cell_type": "markdown",
   "metadata": {},
   "source": [
    "5. Download from Canvas/Files the dataset PatientData.csv.\n",
    "Each row is a patient and the last column is the condition that the patient has. Do data exploration using Pandas and other visualization tools to understand what you can about the dataset. For example:\n",
    "    1. How many patients and how many features are there?\n",
    "    2.  What is the meaning of the first 4 features? See if you can understand what they mean.\n",
    "    3.  Are there missing values? Replace them with the average of the corresponding feature column\n",
    "    4.  How could you test which features strongly influence the patient condition and which do not?\n",
    "    \n",
    "List what you think are the three most important features."
   ]
  },
  {
   "cell_type": "code",
   "execution_count": 23,
   "metadata": {},
   "outputs": [
    {
     "name": "stdout",
     "output_type": "stream",
     "text": [
      "Number Patients: 452\n",
      "Number of Features: 279\n"
     ]
    }
   ],
   "source": [
    "file = pandas.read_csv(\"PatientData.csv\", header=None, na_values=[\"?\"])\n",
    "numPatients = len(file)\n",
    "numFeatures = len(file.columns) - 1\n",
    "print(\"Number Patients: \" + str(numPatients) )\n",
    "print(\"Number of Features: \" + str(numFeatures))\n"
   ]
  },
  {
   "cell_type": "code",
   "execution_count": 24,
   "metadata": {},
   "outputs": [
    {
     "name": "stdout",
     "output_type": "stream",
     "text": [
      "Mean is: 46.4712389380531\n",
      "Var is: 271.14994702038723\n"
     ]
    },
    {
     "data": {
      "image/png": "[encoded data removed]",
      "text/plain": [
       "<Figure size 432x288 with 1 Axes>"
      ]
     },
     "metadata": {
      "needs_background": "light"
     },
     "output_type": "display_data"
    }
   ],
   "source": [
    "#meaning of first 4 features (features = columns)\n",
    "feature1 = file[0]\n",
    "fMean = feature1.mean()\n",
    "fVar = feature1.var()\n",
    "\n",
    "plt.hist(feature1)\n",
    "print(\"Mean is: \" + str(fMean))\n",
    "print(\"Var is: \" + str(fVar))"
   ]
  },
  {
   "cell_type": "markdown",
   "metadata": {},
   "source": [
    "Feature 1: Data is numerical, spreads from 0 to ~80. Could be height, weight, income or age (leaning towards age)"
   ]
  },
  {
   "cell_type": "code",
   "execution_count": 25,
   "metadata": {},
   "outputs": [
    {
     "name": "stdout",
     "output_type": "stream",
     "text": [
      "Mean is: 0.5508849557522124\n",
      "Var is: 0.2479593038086458\n"
     ]
    },
    {
     "data": {
      "image/png": "[encoded data removed]",
      "text/plain": [
       "<Figure size 432x288 with 1 Axes>"
      ]
     },
     "metadata": {
      "needs_background": "light"
     },
     "output_type": "display_data"
    }
   ],
   "source": [
    "feature2 = file[1]\n",
    "fMean = feature2.mean()\n",
    "fVar = feature2.var()\n",
    "\n",
    "plt.hist(feature2)\n",
    "print(\"Mean is: \" + str(fMean))\n",
    "print(\"Var is: \" + str(fVar))"
   ]
  },
  {
   "cell_type": "markdown",
   "metadata": {},
   "source": [
    "Feature 2: Data is categorical/Boolean. Could be gender, or positive / negative result for some test. "
   ]
  },
  {
   "cell_type": "code",
   "execution_count": 26,
   "metadata": {},
   "outputs": [
    {
     "name": "stdout",
     "output_type": "stream",
     "text": [
      "Mean is: 166.18805309734512\n",
      "Var is: 1381.6341806800995\n"
     ]
    },
    {
     "data": {
      "image/png": "[encoded data removed]",
      "text/plain": [
       "<Figure size 432x288 with 1 Axes>"
      ]
     },
     "metadata": {
      "needs_background": "light"
     },
     "output_type": "display_data"
    }
   ],
   "source": [
    "feature3 = file[2]\n",
    "fMean = feature3.mean()\n",
    "fVar = feature3.var()\n",
    "\n",
    "plt.hist(feature3)\n",
    "print(\"Mean is: \" + str(fMean))\n",
    "print(\"Var is: \" + str(fVar))"
   ]
  },
  {
   "cell_type": "markdown",
   "metadata": {},
   "source": [
    "Feature 3: Data is numerical, stays within a set range mostly, with some outliers. Could be height? Weight? Leaning towards blood pressure?"
   ]
  },
  {
   "cell_type": "code",
   "execution_count": 27,
   "metadata": {},
   "outputs": [
    {
     "name": "stdout",
     "output_type": "stream",
     "text": [
      "Mean is: 68.17035398230088\n",
      "Var is: 275.25472892098185\n"
     ]
    },
    {
     "data": {
      "image/png": "[encoded data removed]",
      "text/plain": [
       "<Figure size 432x288 with 1 Axes>"
      ]
     },
     "metadata": {
      "needs_background": "light"
     },
     "output_type": "display_data"
    }
   ],
   "source": [
    "feature4 = file[3]\n",
    "fMean = feature4.mean()\n",
    "fVar = feature4.var()\n",
    "\n",
    "plt.hist(feature4)\n",
    "print(\"Mean is: \" + str(fMean))\n",
    "print(\"Var is: \" + str(fVar))"
   ]
  },
  {
   "cell_type": "markdown",
   "metadata": {},
   "source": [
    "Feature 4: Data is numerical. Could be height? Weight? Amount of Water drank before operation? \n"
   ]
  },
  {
   "cell_type": "code",
   "execution_count": 28,
   "metadata": {},
   "outputs": [
    {
     "name": "stdout",
     "output_type": "stream",
     "text": [
      "Before\n",
      "0        NaN\n",
      "1        NaN\n",
      "2       23.0\n",
      "3        NaN\n",
      "4        NaN\n",
      "5        NaN\n",
      "6        NaN\n",
      "7        NaN\n",
      "8       84.0\n",
      "9        NaN\n",
      "10       NaN\n",
      "11       NaN\n",
      "12       NaN\n",
      "13       NaN\n",
      "14       NaN\n",
      "15       NaN\n",
      "16       NaN\n",
      "17       NaN\n",
      "18       NaN\n",
      "19       NaN\n",
      "20       NaN\n",
      "21       NaN\n",
      "22       NaN\n",
      "23       NaN\n",
      "24       NaN\n",
      "25       NaN\n",
      "26       NaN\n",
      "27       NaN\n",
      "28       NaN\n",
      "29     160.0\n",
      "       ...  \n",
      "422      NaN\n",
      "423      NaN\n",
      "424    103.0\n",
      "425      NaN\n",
      "426    -84.0\n",
      "427      NaN\n",
      "428      NaN\n",
      "429      NaN\n",
      "430    -44.0\n",
      "431      NaN\n",
      "432      NaN\n",
      "433      NaN\n",
      "434      NaN\n",
      "435      NaN\n",
      "436      NaN\n",
      "437      NaN\n",
      "438      NaN\n",
      "439      NaN\n",
      "440    -90.0\n",
      "441      NaN\n",
      "442      NaN\n",
      "443      NaN\n",
      "444      NaN\n",
      "445      NaN\n",
      "446      NaN\n",
      "447      NaN\n",
      "448      NaN\n",
      "449     84.0\n",
      "450    103.0\n",
      "451      NaN\n",
      "Name: 13, Length: 452, dtype: float64\n"
     ]
    }
   ],
   "source": [
    "#(c) Are there missing values? Replace them with the average of the corresponding feature column\n",
    "#user .fillna(\"thingto replace\", inplace=True)\n",
    "print(\"Before\")\n",
    "print(file[13])"
   ]
  },
  {
   "cell_type": "code",
   "execution_count": 29,
   "metadata": {},
   "outputs": [
    {
     "name": "stdout",
     "output_type": "stream",
     "text": [
      "280\n",
      "After\n",
      "-13.592105263157896\n",
      "0      -13.592105\n",
      "1      -13.592105\n",
      "2       23.000000\n",
      "3      -13.592105\n",
      "4      -13.592105\n",
      "5      -13.592105\n",
      "6      -13.592105\n",
      "7      -13.592105\n",
      "8       84.000000\n",
      "9      -13.592105\n",
      "10     -13.592105\n",
      "11     -13.592105\n",
      "12     -13.592105\n",
      "13     -13.592105\n",
      "14     -13.592105\n",
      "15     -13.592105\n",
      "16     -13.592105\n",
      "17     -13.592105\n",
      "18     -13.592105\n",
      "19     -13.592105\n",
      "20     -13.592105\n",
      "21     -13.592105\n",
      "22     -13.592105\n",
      "23     -13.592105\n",
      "24     -13.592105\n",
      "25     -13.592105\n",
      "26     -13.592105\n",
      "27     -13.592105\n",
      "28     -13.592105\n",
      "29     160.000000\n",
      "          ...    \n",
      "422    -13.592105\n",
      "423    -13.592105\n",
      "424    103.000000\n",
      "425    -13.592105\n",
      "426    -84.000000\n",
      "427    -13.592105\n",
      "428    -13.592105\n",
      "429    -13.592105\n",
      "430    -44.000000\n",
      "431    -13.592105\n",
      "432    -13.592105\n",
      "433    -13.592105\n",
      "434    -13.592105\n",
      "435    -13.592105\n",
      "436    -13.592105\n",
      "437    -13.592105\n",
      "438    -13.592105\n",
      "439    -13.592105\n",
      "440    -90.000000\n",
      "441    -13.592105\n",
      "442    -13.592105\n",
      "443    -13.592105\n",
      "444    -13.592105\n",
      "445    -13.592105\n",
      "446    -13.592105\n",
      "447    -13.592105\n",
      "448    -13.592105\n",
      "449     84.000000\n",
      "450    103.000000\n",
      "451    -13.592105\n",
      "Name: 13, Length: 452, dtype: float64\n"
     ]
    }
   ],
   "source": [
    "means = file.mean()\n",
    "print(len(means))\n",
    "for i in range(len(file.columns)):\n",
    "    x = means[i]\n",
    "#     print(x)\n",
    "    file[i].fillna(value=x, inplace=True, downcast=\"infer\")\n",
    "    \n",
    "print(\"After\")\n",
    "print(means[13])\n",
    "print(file[13])"
   ]
  },
  {
   "cell_type": "markdown",
   "metadata": {},
   "source": [
    "In order to determine which features influence the patient condition, we would have to find which features (columns) have the strongest influence on the result features (final column). In order to do this, we would have to determine the correlation coefficient for each column. "
   ]
  },
  {
   "cell_type": "code",
   "execution_count": 30,
   "metadata": {},
   "outputs": [],
   "source": [
    "#find correlation -> user DataFrame.corr()\n",
    "colLen = len(file.columns)\n",
    "coeff = []\n",
    "#go up to second to last col\n",
    "for i in range(colLen - 2):\n",
    "#     print(i)\n",
    "    #correlate it to last col\n",
    "    corr = abs(file[i].corr(file[colLen-1]))\n",
    "    if(numpy.isnan(corr)):\n",
    "        corr = 0\n",
    "    coeff.append(corr)"
   ]
  },
  {
   "cell_type": "code",
   "execution_count": 31,
   "metadata": {},
   "outputs": [
    {
     "name": "stdout",
     "output_type": "stream",
     "text": [
      "Using 0 based indexing (we didn't have headers), the most important columns (least to greatest) are: \n",
      "[92  4 90]\n",
      "with correlation coeff\n",
      "[0.3139825  0.32387873 0.3688756 ]\n"
     ]
    }
   ],
   "source": [
    "top3Idx = numpy.argsort(coeff)\n",
    "print(\"Using 0 based indexing (we didn't have headers), the most important columns (least to greatest) are: \")\n",
    "print(top3Idx[-3:])\n",
    "print(\"with correlation coeff\")\n",
    "print(numpy.sort(coeff)[-3:])\n"
   ]
  },
  {
   "cell_type": "markdown",
   "metadata": {},
   "source": [
    "Highest correlation coefficient = most important features"
   ]
  }
 ],
 "metadata": {
  "celltoolbar": "Raw Cell Format",
  "kernelspec": {
   "display_name": "Python 3",
   "language": "python",
   "name": "python3"
  },
  "language_info": {
   "codemirror_mode": {
    "name": "ipython",
    "version": 3
   },
   "file_extension": ".py",
   "mimetype": "text/x-python",
   "name": "python",
   "nbconvert_exporter": "python",
   "pygments_lexer": "ipython3",
   "version": "3.7.1"
  }
 },
 "nbformat": 4,
 "nbformat_minor": 2
}
