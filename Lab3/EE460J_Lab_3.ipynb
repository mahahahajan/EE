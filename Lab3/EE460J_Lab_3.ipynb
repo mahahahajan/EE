{
 "cells": [
  {
   "cell_type": "markdown",
   "metadata": {
    "id": "QZ7rct1am_Hk"
   },
   "source": [
    "# EE460J Lab 3\n",
    "Jianchen Gu - jg68927  \n",
    "Anuv Gupta - ag68799  \n",
    "Pulkit Mahajan - pm28838"
   ]
  },
  {
   "cell_type": "markdown",
   "metadata": {
    "id": "tVqVUEFKm_Hl"
   },
   "source": [
    "## Problem 1\n",
    ">Read Shannon’s 1948 paper ’A Mathematical Theory of Communication’.  Focus on pages 1-19 (up to Part II), the remaining part is more relevant for communication.http://math.harvard.edu/~ctm/home/text/others/shannon/entropy/entropy.pdfSummarize what you learned briefly (e.g.  half a page)\n",
    "\n",
    "A Mathematical Theory of Communication teaches us about the mathematical models behind current data transmission. Currently, the bit, or binary digit, is the chosen unit of data with which to express and model communications. Since the bit is binary, most of the models follow some form of the logarithmic function, which makes the models make sense mathematically, intuitively, and practically. Typically, an information system consists of the following parts: the information source, the transmitter, the channel, the receiver, and the destination. Given a set of predetermined, finite, symbols, we can use mathematical models to predict sequences of symbols governed by the same statistical properties - this is a stochastic process. Stochastic processes are used with n-order approximations to simulate potential messages - generating messages using information such as the probability of certain letters in a language, languages structures (-ed, qu-, etc), or even probabilities of words in a language themselves. Graphically, our information source can also be represented as a Markov Process, where each state of the information has a finite set of states it can go to, and has a state from which it came (the previous state). Amongst Markov Proceses, there exists a special class which we can use for communication theory - a class based off of ergodic properties. Ergodic simply means that every sequence produced using the same finite set of symbols (which symbols are used in the actual message doesn't matter) has the same statistical properties. Ergodic Markov processes also help us when measuring our uncertainty of the outcome. We know that the uncertainty of an event y is not increased by knowledge of an event x for example. We can also use our knowledge of ergodic processes to calculate entropy. This in turn gives us our max possible compression when we encode into an alphabet - the relative entropy, or the ratio of entropy of a source to its maximum value. After the information source has predicted a message, a transducer is needed to either encode or decode the message (in terms of the input and output symbols). A transducer has the an entropy per unit time less than or equal to that of it’s input. We can use all of this information to determine that the most efficient coding of a chanel is determined by C/H, where C is the capacity in bits per second, and H is the entry in bits per symbol of the source."
   ]
  },
  {
   "cell_type": "code",
   "execution_count": null,
   "metadata": {
    "id": "grsD3kM0ouAW"
   },
   "outputs": [],
   "source": []
  },
  {
   "cell_type": "markdown",
   "metadata": {
    "id": "ugo517dtm_Hl"
   },
   "source": []
  },
  {
   "cell_type": "markdown",
   "metadata": {
    "id": "M0sx5PVbm_Hm"
   },
   "source": [
    "## Problem 2:  Scraping, Entropy and ICML papers\n",
    ">ICML is a top research conference in Machine Learning.  Scrape all the pdfs of all ICML 2017 papers from http://proceedings.mlr.press/v70/.\n",
    "1.  What are the top 10 common words in the ICML papers?\n",
    "2.  Let Z be a randomly selected word in a randomly selected ICML paper.  Estimate the entropy of Z.\n",
    "3.  Synthesize a random paragraph using the marginal distribution over words.\n",
    "4.  (Extra credit) Synthesize a random paragraph using an n-gram model on words.  Synthesize a random paragraph using any model you want. Top five synthesized text paragraphs win bonus (+30 points).\n",
    "#### Download all required PDFs from ICML 2017 - Run Once!"
   ]
  },
  {
   "cell_type": "code",
   "execution_count": 2,
   "metadata": {
    "id": "zxDhjjtQm_Hm"
   },
   "outputs": [],
   "source": [
    "# import requests\n",
    "# from bs4 import BeautifulSoup\n",
    "\n",
    "# # get the contents of the ICML 2017 articles web page and disable encryption verification (bc website lacks it)\n",
    "# getpage= requests.get('https://proceedings.mlr.press/v70/', verify=False)\n",
    "# # create bs4 object to parse the web page contents\n",
    "# getpage_soup= BeautifulSoup(getpage.text, 'html.parser')\n",
    "\n",
    "# # find all hyperlink <a> tags w/ tag string: 'Download PDF'\n",
    "# all_links= getpage_soup.findAll('a', string='Download PDF')\n",
    "\n",
    "# # download all pdfs and save on system\n",
    "# for i, link in enumerate(all_links):\n",
    "#     # link is bs4 <tag> object, so we access the link itself via it's <href> key\n",
    "#     file_url = link['href']\n",
    "#     r = requests.get(file_url, stream = True) \n",
    "#     # download contents by chunks to our designated pdf\n",
    "#     with open(f'ICML_2017_pdfs/pdf_{i}.pdf','wb') as pdf: \n",
    "#         for chunk in r.iter_content(chunk_size=1024): \n",
    "#             if chunk: \n",
    "#                 pdf.write(chunk) "
   ]
  },
  {
   "cell_type": "markdown",
   "metadata": {
    "id": "l9Oe2B_Zm_Hq"
   },
   "source": [
    "#### Parse and convert PDFs to text files - Run Once!"
   ]
  },
  {
   "cell_type": "code",
   "execution_count": 51,
   "metadata": {
    "id": "ipEdwy3bm_Hq"
   },
   "outputs": [],
   "source": [
    "import os\n",
    "from io import StringIO\n",
    "\n",
    "from pdfminer.converter import TextConverter\n",
    "from pdfminer.layout import LAParams\n",
    "from pdfminer.pdfdocument import PDFDocument\n",
    "from pdfminer.pdfinterp import PDFResourceManager, PDFPageInterpreter\n",
    "from pdfminer.pdfpage import PDFPage\n",
    "from pdfminer.pdfparser import PDFParser\n",
    "\n",
    "\n",
    "def convert_pdf_to_string(file_path):\n",
    "    \"\"\"\n",
    "    Function that uses pdfminer.six to parse and convert a pdf \n",
    "    stored on local machine to a text file\n",
    "    \"\"\"\n",
    "    output_string = StringIO()\n",
    "    \n",
    "    with open(file_path, 'rb') as in_file:\n",
    "        parser = PDFParser(in_file)\n",
    "        doc = PDFDocument(parser)\n",
    "        rsrcmgr = PDFResourceManager()\n",
    "        device = TextConverter(rsrcmgr, output_string, laparams=LAParams())\n",
    "        interpreter = PDFPageInterpreter(rsrcmgr, device)\n",
    "        for page in PDFPage.create_pages(doc):\n",
    "            interpreter.process_page(page)\n",
    "\n",
    "    return(output_string.getvalue())\n",
    "\n",
    "\n",
    "# iterate over all pdfs in ICML 2017 directory\n",
    "directory = 'ICML_2017_pdfs'\n",
    "for filename in os.listdir(directory):\n",
    "    # for generating text files of pdfs\n",
    "    text_file = open(f\"ICML_2017_texts/{filename.split('.')[0]}.txt\", 'w')\n",
    "    n = text_file.write(convert_pdf_to_string(f'ICML_2017_pdfs/{filename}'))\n",
    "    text_file.close()"
   ]
  },
  {
   "cell_type": "markdown",
   "metadata": {
    "id": "XMRxKw3om_Ht"
   },
   "source": [
    "**1.** Text analysis, Top 10 Most Common Words and Their Occurences"
   ]
  },
  {
   "cell_type": "code",
   "execution_count": 47,
   "metadata": {
    "colab": {
     "base_uri": "https://localhost:8080/",
     "height": 246
    },
    "id": "KLDb0y7Pm_Hu",
    "outputId": "f178989b-7bf9-49fc-a99c-5dc05d00ba12",
    "tags": []
   },
   "outputs": [
    {
     "name": "stdout",
     "output_type": "stream",
     "text": [
      "Top 10 Most Common Words:\n",
      "the -> 90206\n",
      "of -> 44751\n",
      "and -> 39194\n",
      "in -> 32221\n",
      "to -> 29902\n",
      "is -> 24286\n",
      "for -> 21540\n",
      "we -> 19926\n",
      "that -> 14728\n",
      "with -> 13109\n"
     ]
    }
   ],
   "source": [
    "from sklearn.feature_extraction.text import CountVectorizer\n",
    "import re\n",
    "\n",
    "corpus = []\n",
    "directory = 'ICML_2017_texts'\n",
    "for filename in os.listdir(directory):\n",
    "    # stringify all text files and add them to the list of documents\n",
    "    with open(f'{directory}/{filename}', 'r') as file:\n",
    "        # clean out newlines and numbers\n",
    "        text = file.read().replace('\\n', ' ')\n",
    "        text = re.sub(r'[\\d]+', ' ', text)\n",
    "        text = re.sub(r\"[.!,'\\\";:\\?]+\", '', text)\n",
    "        corpus.append(text)\n",
    "        \n",
    "# Create a Vectorizer Object, with lowercase specified\n",
    "vectorizer = CountVectorizer(lowercase=True) \n",
    "vectorizer.fit(corpus) \n",
    "\n",
    "# transform our corpus and tally + sort word frequencies\n",
    "bag_of_words = vectorizer.transform(corpus)\n",
    "sum_words = bag_of_words.sum(axis=0) \n",
    "# generate tuples of words and their frequencies\n",
    "words_freq = [(word, sum_words[0, idx]) for word, idx in vectorizer.vocabulary_.items()]\n",
    "# sort tuples using frequencies as key value\n",
    "words_freq = sorted(words_freq, key=lambda x: x[1], reverse=True)\n",
    "\n",
    "print('Top 10 Most Common Words:')\n",
    "counter = 0\n",
    "for word, freq in words_freq:\n",
    "    # watch out for 'cid' pdfminer conversion text (potential math character conversion)\n",
    "    if word == 'cid':\n",
    "        continue\n",
    "    if counter == 10:\n",
    "        break\n",
    "    print(f'{word} ->', freq)\n",
    "    counter += 1"
   ]
  },
  {
   "cell_type": "markdown",
   "metadata": {
    "id": "BPrw7pV0m_Hx"
   },
   "source": [
    "**2.** Entropy of Z, a Randomly Selected Word in a Randomly Selected ICML Paper"
   ]
  },
  {
   "cell_type": "code",
   "execution_count": 49,
   "metadata": {
    "id": "0_sSYGU6m_Hx"
   },
   "outputs": [
    {
     "ename": "ValueError",
     "evalue": "empty vocabulary; perhaps the documents only contain stop words",
     "output_type": "error",
     "traceback": [
      "\u001b[0;31m---------------------------------------------------------------------------\u001b[0m",
      "\u001b[0;31mValueError\u001b[0m                                Traceback (most recent call last)",
      "\u001b[0;32m<ipython-input-49-257c4350b1e8>\u001b[0m in \u001b[0;36m<module>\u001b[0;34m\u001b[0m\n\u001b[1;32m     17\u001b[0m         \u001b[0;31m# Create a Vectorizer Object, with lowercase specified\u001b[0m\u001b[0;34m\u001b[0m\u001b[0;34m\u001b[0m\u001b[0;34m\u001b[0m\u001b[0m\n\u001b[1;32m     18\u001b[0m         \u001b[0mvectorizer\u001b[0m \u001b[0;34m=\u001b[0m \u001b[0mCountVectorizer\u001b[0m\u001b[0;34m(\u001b[0m\u001b[0mlowercase\u001b[0m\u001b[0;34m=\u001b[0m\u001b[0;32mTrue\u001b[0m\u001b[0;34m)\u001b[0m\u001b[0;34m\u001b[0m\u001b[0;34m\u001b[0m\u001b[0m\n\u001b[0;32m---> 19\u001b[0;31m         \u001b[0mvectorizer\u001b[0m\u001b[0;34m.\u001b[0m\u001b[0mfit\u001b[0m\u001b[0;34m(\u001b[0m\u001b[0;34m[\u001b[0m\u001b[0mtext\u001b[0m\u001b[0;34m]\u001b[0m\u001b[0;34m)\u001b[0m\u001b[0;34m\u001b[0m\u001b[0;34m\u001b[0m\u001b[0m\n\u001b[0m\u001b[1;32m     20\u001b[0m         \u001b[0;31m# transform our corpus and find word frequencies\u001b[0m\u001b[0;34m\u001b[0m\u001b[0;34m\u001b[0m\u001b[0;34m\u001b[0m\u001b[0m\n\u001b[1;32m     21\u001b[0m         \u001b[0mbag_of_words\u001b[0m \u001b[0;34m=\u001b[0m \u001b[0mvectorizer\u001b[0m\u001b[0;34m.\u001b[0m\u001b[0mtransform\u001b[0m\u001b[0;34m(\u001b[0m\u001b[0;34m[\u001b[0m\u001b[0mtext\u001b[0m\u001b[0;34m]\u001b[0m\u001b[0;34m)\u001b[0m\u001b[0;34m\u001b[0m\u001b[0;34m\u001b[0m\u001b[0m\n",
      "\u001b[0;32m~/anaconda3/lib/python3.7/site-packages/sklearn/feature_extraction/text.py\u001b[0m in \u001b[0;36mfit\u001b[0;34m(self, raw_documents, y)\u001b[0m\n\u001b[1;32m   1163\u001b[0m         \"\"\"\n\u001b[1;32m   1164\u001b[0m         \u001b[0mself\u001b[0m\u001b[0;34m.\u001b[0m\u001b[0m_warn_for_unused_params\u001b[0m\u001b[0;34m(\u001b[0m\u001b[0;34m)\u001b[0m\u001b[0;34m\u001b[0m\u001b[0;34m\u001b[0m\u001b[0m\n\u001b[0;32m-> 1165\u001b[0;31m         \u001b[0mself\u001b[0m\u001b[0;34m.\u001b[0m\u001b[0mfit_transform\u001b[0m\u001b[0;34m(\u001b[0m\u001b[0mraw_documents\u001b[0m\u001b[0;34m)\u001b[0m\u001b[0;34m\u001b[0m\u001b[0;34m\u001b[0m\u001b[0m\n\u001b[0m\u001b[1;32m   1166\u001b[0m         \u001b[0;32mreturn\u001b[0m \u001b[0mself\u001b[0m\u001b[0;34m\u001b[0m\u001b[0;34m\u001b[0m\u001b[0m\n\u001b[1;32m   1167\u001b[0m \u001b[0;34m\u001b[0m\u001b[0m\n",
      "\u001b[0;32m~/anaconda3/lib/python3.7/site-packages/sklearn/feature_extraction/text.py\u001b[0m in \u001b[0;36mfit_transform\u001b[0;34m(self, raw_documents, y)\u001b[0m\n\u001b[1;32m   1197\u001b[0m \u001b[0;34m\u001b[0m\u001b[0m\n\u001b[1;32m   1198\u001b[0m         vocabulary, X = self._count_vocab(raw_documents,\n\u001b[0;32m-> 1199\u001b[0;31m                                           self.fixed_vocabulary_)\n\u001b[0m\u001b[1;32m   1200\u001b[0m \u001b[0;34m\u001b[0m\u001b[0m\n\u001b[1;32m   1201\u001b[0m         \u001b[0;32mif\u001b[0m \u001b[0mself\u001b[0m\u001b[0;34m.\u001b[0m\u001b[0mbinary\u001b[0m\u001b[0;34m:\u001b[0m\u001b[0;34m\u001b[0m\u001b[0;34m\u001b[0m\u001b[0m\n",
      "\u001b[0;32m~/anaconda3/lib/python3.7/site-packages/sklearn/feature_extraction/text.py\u001b[0m in \u001b[0;36m_count_vocab\u001b[0;34m(self, raw_documents, fixed_vocab)\u001b[0m\n\u001b[1;32m   1127\u001b[0m             \u001b[0mvocabulary\u001b[0m \u001b[0;34m=\u001b[0m \u001b[0mdict\u001b[0m\u001b[0;34m(\u001b[0m\u001b[0mvocabulary\u001b[0m\u001b[0;34m)\u001b[0m\u001b[0;34m\u001b[0m\u001b[0;34m\u001b[0m\u001b[0m\n\u001b[1;32m   1128\u001b[0m             \u001b[0;32mif\u001b[0m \u001b[0;32mnot\u001b[0m \u001b[0mvocabulary\u001b[0m\u001b[0;34m:\u001b[0m\u001b[0;34m\u001b[0m\u001b[0;34m\u001b[0m\u001b[0m\n\u001b[0;32m-> 1129\u001b[0;31m                 raise ValueError(\"empty vocabulary; perhaps the documents only\"\n\u001b[0m\u001b[1;32m   1130\u001b[0m                                  \" contain stop words\")\n\u001b[1;32m   1131\u001b[0m \u001b[0;34m\u001b[0m\u001b[0m\n",
      "\u001b[0;31mValueError\u001b[0m: empty vocabulary; perhaps the documents only contain stop words"
     ]
    }
   ],
   "source": [
    "import numpy as np\n",
    "from scipy.stats import entropy\n",
    "\n",
    "# known article probability distributions (uniformly distributed)\n",
    "article_probabilities = [1/434 for i in range(434)]\n",
    "# list of marginal probabilities for EACH set of words in EACH article\n",
    "word_prob_by_article = []\n",
    "\n",
    "directory = 'ICML_2017_texts'\n",
    "for filename in os.listdir(directory):\n",
    "    # stringify all text files and add them to the list of documents\n",
    "    with open(f'{directory}/{filename}', 'r') as file:\n",
    "        # clean out newlines and numbers\n",
    "        text = file.read().replace('\\n', ' ')\n",
    "        text = re.sub(r'[\\d]+', ' ', text)\n",
    "        text = re.sub(r\"[.!,'\\\";:\\?]+\", '', text)\n",
    "        # Create a Vectorizer Object, with lowercase specified\n",
    "        vectorizer = CountVectorizer(lowercase=True)\n",
    "        vectorizer.fit([text]) \n",
    "        # transform our corpus and find word frequencies\n",
    "        bag_of_words = vectorizer.transform([text])\n",
    "        sum_words = bag_of_words.sum(axis=0) \n",
    "        # generate tuples of words and their frequencies\n",
    "        words_freq = [(word, sum_words[0, idx]) for word, idx in vectorizer.vocabulary_.items()]\n",
    "        \n",
    "        # set up for finding marginal probabilities of words in this current article\n",
    "        words = []\n",
    "        word_probabilities = []\n",
    "        num_words = 0\n",
    "\n",
    "        # get a list of all words\n",
    "        for word, freq in words_freq:\n",
    "            words.append(word)\n",
    "            num_words += freq\n",
    "\n",
    "        # calculate marginal probabilities of words in this current article\n",
    "        for word, freq in words_freq:\n",
    "            word_probabilities.append(freq/num_words)\n",
    "        \n",
    "        # add list of word probability distribution to the main list\n",
    "        word_prob_by_article.append(word_probabilities)\n",
    "        \n",
    "# now we have a list of EACH word probability distribution for EACH article\n",
    "# calculate conditional entropy using known article distribution and article word distribution\n",
    "entropy = 0\n",
    "for i, a_p in enumerate(article_probabilities):\n",
    "    entropy += a_p * sum(-p * np.log2(p) for p in word_prob_by_article[i])\n",
    "\n",
    "print(f'Estimated Entropy of Z: {entropy}')"
   ]
  },
  {
   "cell_type": "markdown",
   "metadata": {
    "id": "hII3pTn7m_H0"
   },
   "source": [
    "**3.** Synthesize a Random Paragraph Using the Marginal Distribution Over Words"
   ]
  },
  {
   "cell_type": "code",
   "execution_count": 50,
   "metadata": {
    "id": "sLvVqMimm_H1",
    "tags": []
   },
   "outputs": [
    {
     "name": "stdout",
     "output_type": "stream",
     "text": [
      "better visited query perhaps st combines etl com of standard the log query which difference mk entries paulev log we less and dense there order triplets space priority priority time in use in the direction trees approximation foundations obstacle the different the of like closest than algo random reason index\n"
     ]
    }
   ],
   "source": [
    "import random\n",
    "\n",
    "# track list of words and their marginal probabilities\n",
    "words = []\n",
    "word_probabilities = []\n",
    "num_words = 0\n",
    "\n",
    "# get a list of all words\n",
    "for word, freq in words_freq:\n",
    "    words.append(word)\n",
    "    num_words += freq\n",
    "\n",
    "# calculate their marginal probabilities\n",
    "for word, freq in words_freq:\n",
    "    word_probabilities.append(freq/num_words)\n",
    "\n",
    "# generate random 50 word paragraph using the words' marginal probabilities\n",
    "generated_words = random.choices(words, weights=word_probabilities, k=50)\n",
    "print(' '.join(generated_words))"
   ]
  },
  {
   "cell_type": "markdown",
   "metadata": {
    "id": "TwGpswbem_H3"
   },
   "source": [
    "## Problem 3: Starting in Kaggle\n",
    "**1.** Let’s start with our first Kaggle submission in a playground regression competition.  Make an account to Kaggle and find https://www.kaggle.com/c/house-prices-advanced-regression-techniques/"
   ]
  },
  {
   "cell_type": "code",
   "execution_count": 17,
   "metadata": {
    "id": "MmXzLFGMm_H3",
    "scrolled": true
   },
   "outputs": [
    {
     "data": {
      "text/html": [
       "<div>\n",
       "<style scoped>\n",
       "    .dataframe tbody tr th:only-of-type {\n",
       "        vertical-align: middle;\n",
       "    }\n",
       "\n",
       "    .dataframe tbody tr th {\n",
       "        vertical-align: top;\n",
       "    }\n",
       "\n",
       "    .dataframe thead th {\n",
       "        text-align: right;\n",
       "    }\n",
       "</style>\n",
       "<table border=\"1\" class=\"dataframe\">\n",
       "  <thead>\n",
       "    <tr style=\"text-align: right;\">\n",
       "      <th></th>\n",
       "      <th>Id</th>\n",
       "      <th>MSSubClass</th>\n",
       "      <th>MSZoning</th>\n",
       "      <th>LotFrontage</th>\n",
       "      <th>LotArea</th>\n",
       "      <th>Street</th>\n",
       "      <th>Alley</th>\n",
       "      <th>LotShape</th>\n",
       "      <th>LandContour</th>\n",
       "      <th>Utilities</th>\n",
       "      <th>...</th>\n",
       "      <th>PoolArea</th>\n",
       "      <th>PoolQC</th>\n",
       "      <th>Fence</th>\n",
       "      <th>MiscFeature</th>\n",
       "      <th>MiscVal</th>\n",
       "      <th>MoSold</th>\n",
       "      <th>YrSold</th>\n",
       "      <th>SaleType</th>\n",
       "      <th>SaleCondition</th>\n",
       "      <th>SalePrice</th>\n",
       "    </tr>\n",
       "  </thead>\n",
       "  <tbody>\n",
       "    <tr>\n",
       "      <th>0</th>\n",
       "      <td>1</td>\n",
       "      <td>60</td>\n",
       "      <td>RL</td>\n",
       "      <td>65.0</td>\n",
       "      <td>8450</td>\n",
       "      <td>Pave</td>\n",
       "      <td>NaN</td>\n",
       "      <td>Reg</td>\n",
       "      <td>Lvl</td>\n",
       "      <td>AllPub</td>\n",
       "      <td>...</td>\n",
       "      <td>0</td>\n",
       "      <td>NaN</td>\n",
       "      <td>NaN</td>\n",
       "      <td>NaN</td>\n",
       "      <td>0</td>\n",
       "      <td>2</td>\n",
       "      <td>2008</td>\n",
       "      <td>WD</td>\n",
       "      <td>Normal</td>\n",
       "      <td>208500</td>\n",
       "    </tr>\n",
       "    <tr>\n",
       "      <th>1</th>\n",
       "      <td>2</td>\n",
       "      <td>20</td>\n",
       "      <td>RL</td>\n",
       "      <td>80.0</td>\n",
       "      <td>9600</td>\n",
       "      <td>Pave</td>\n",
       "      <td>NaN</td>\n",
       "      <td>Reg</td>\n",
       "      <td>Lvl</td>\n",
       "      <td>AllPub</td>\n",
       "      <td>...</td>\n",
       "      <td>0</td>\n",
       "      <td>NaN</td>\n",
       "      <td>NaN</td>\n",
       "      <td>NaN</td>\n",
       "      <td>0</td>\n",
       "      <td>5</td>\n",
       "      <td>2007</td>\n",
       "      <td>WD</td>\n",
       "      <td>Normal</td>\n",
       "      <td>181500</td>\n",
       "    </tr>\n",
       "    <tr>\n",
       "      <th>2</th>\n",
       "      <td>3</td>\n",
       "      <td>60</td>\n",
       "      <td>RL</td>\n",
       "      <td>68.0</td>\n",
       "      <td>11250</td>\n",
       "      <td>Pave</td>\n",
       "      <td>NaN</td>\n",
       "      <td>IR1</td>\n",
       "      <td>Lvl</td>\n",
       "      <td>AllPub</td>\n",
       "      <td>...</td>\n",
       "      <td>0</td>\n",
       "      <td>NaN</td>\n",
       "      <td>NaN</td>\n",
       "      <td>NaN</td>\n",
       "      <td>0</td>\n",
       "      <td>9</td>\n",
       "      <td>2008</td>\n",
       "      <td>WD</td>\n",
       "      <td>Normal</td>\n",
       "      <td>223500</td>\n",
       "    </tr>\n",
       "    <tr>\n",
       "      <th>3</th>\n",
       "      <td>4</td>\n",
       "      <td>70</td>\n",
       "      <td>RL</td>\n",
       "      <td>60.0</td>\n",
       "      <td>9550</td>\n",
       "      <td>Pave</td>\n",
       "      <td>NaN</td>\n",
       "      <td>IR1</td>\n",
       "      <td>Lvl</td>\n",
       "      <td>AllPub</td>\n",
       "      <td>...</td>\n",
       "      <td>0</td>\n",
       "      <td>NaN</td>\n",
       "      <td>NaN</td>\n",
       "      <td>NaN</td>\n",
       "      <td>0</td>\n",
       "      <td>2</td>\n",
       "      <td>2006</td>\n",
       "      <td>WD</td>\n",
       "      <td>Abnorml</td>\n",
       "      <td>140000</td>\n",
       "    </tr>\n",
       "    <tr>\n",
       "      <th>4</th>\n",
       "      <td>5</td>\n",
       "      <td>60</td>\n",
       "      <td>RL</td>\n",
       "      <td>84.0</td>\n",
       "      <td>14260</td>\n",
       "      <td>Pave</td>\n",
       "      <td>NaN</td>\n",
       "      <td>IR1</td>\n",
       "      <td>Lvl</td>\n",
       "      <td>AllPub</td>\n",
       "      <td>...</td>\n",
       "      <td>0</td>\n",
       "      <td>NaN</td>\n",
       "      <td>NaN</td>\n",
       "      <td>NaN</td>\n",
       "      <td>0</td>\n",
       "      <td>12</td>\n",
       "      <td>2008</td>\n",
       "      <td>WD</td>\n",
       "      <td>Normal</td>\n",
       "      <td>250000</td>\n",
       "    </tr>\n",
       "  </tbody>\n",
       "</table>\n",
       "<p>5 rows × 81 columns</p>\n",
       "</div>"
      ],
      "text/plain": [
       "   Id  MSSubClass MSZoning  LotFrontage  LotArea Street Alley LotShape  \\\n",
       "0   1          60       RL         65.0     8450   Pave   NaN      Reg   \n",
       "1   2          20       RL         80.0     9600   Pave   NaN      Reg   \n",
       "2   3          60       RL         68.0    11250   Pave   NaN      IR1   \n",
       "3   4          70       RL         60.0     9550   Pave   NaN      IR1   \n",
       "4   5          60       RL         84.0    14260   Pave   NaN      IR1   \n",
       "\n",
       "  LandContour Utilities  ... PoolArea PoolQC Fence MiscFeature MiscVal MoSold  \\\n",
       "0         Lvl    AllPub  ...        0    NaN   NaN         NaN       0      2   \n",
       "1         Lvl    AllPub  ...        0    NaN   NaN         NaN       0      5   \n",
       "2         Lvl    AllPub  ...        0    NaN   NaN         NaN       0      9   \n",
       "3         Lvl    AllPub  ...        0    NaN   NaN         NaN       0      2   \n",
       "4         Lvl    AllPub  ...        0    NaN   NaN         NaN       0     12   \n",
       "\n",
       "  YrSold  SaleType  SaleCondition  SalePrice  \n",
       "0   2008        WD         Normal     208500  \n",
       "1   2007        WD         Normal     181500  \n",
       "2   2008        WD         Normal     223500  \n",
       "3   2006        WD        Abnorml     140000  \n",
       "4   2008        WD         Normal     250000  \n",
       "\n",
       "[5 rows x 81 columns]"
      ]
     },
     "execution_count": 17,
     "metadata": {},
     "output_type": "execute_result"
    }
   ],
   "source": [
    "import pandas as pd\n",
    "import seaborn as sns\n",
    "import matplotlib\n",
    "\n",
    "import matplotlib.pyplot as plt\n",
    "from scipy.stats import skew\n",
    "from scipy.stats.stats import pearsonr\n",
    "\n",
    "\n",
    "%config InlineBackend.figure_format = 'retina' #set 'png' here when working on notebook\n",
    "%matplotlib inline\n",
    "\n",
    "train = pd.read_csv('train.csv')\n",
    "test = pd.read_csv('test.csv')\n",
    "train.head()"
   ]
  },
  {
   "cell_type": "code",
   "execution_count": 18,
   "metadata": {
    "id": "uArN4gnlm_H6"
   },
   "outputs": [
    {
     "data": {
      "text/html": [
       "<div>\n",
       "<style scoped>\n",
       "    .dataframe tbody tr th:only-of-type {\n",
       "        vertical-align: middle;\n",
       "    }\n",
       "\n",
       "    .dataframe tbody tr th {\n",
       "        vertical-align: top;\n",
       "    }\n",
       "\n",
       "    .dataframe thead th {\n",
       "        text-align: right;\n",
       "    }\n",
       "</style>\n",
       "<table border=\"1\" class=\"dataframe\">\n",
       "  <thead>\n",
       "    <tr style=\"text-align: right;\">\n",
       "      <th></th>\n",
       "      <th>Id</th>\n",
       "      <th>MSSubClass</th>\n",
       "      <th>MSZoning</th>\n",
       "      <th>LotFrontage</th>\n",
       "      <th>LotArea</th>\n",
       "      <th>Street</th>\n",
       "      <th>Alley</th>\n",
       "      <th>LotShape</th>\n",
       "      <th>LandContour</th>\n",
       "      <th>Utilities</th>\n",
       "      <th>...</th>\n",
       "      <th>ScreenPorch</th>\n",
       "      <th>PoolArea</th>\n",
       "      <th>PoolQC</th>\n",
       "      <th>Fence</th>\n",
       "      <th>MiscFeature</th>\n",
       "      <th>MiscVal</th>\n",
       "      <th>MoSold</th>\n",
       "      <th>YrSold</th>\n",
       "      <th>SaleType</th>\n",
       "      <th>SaleCondition</th>\n",
       "    </tr>\n",
       "  </thead>\n",
       "  <tbody>\n",
       "    <tr>\n",
       "      <th>0</th>\n",
       "      <td>1461</td>\n",
       "      <td>20</td>\n",
       "      <td>RH</td>\n",
       "      <td>80.0</td>\n",
       "      <td>11622</td>\n",
       "      <td>Pave</td>\n",
       "      <td>NaN</td>\n",
       "      <td>Reg</td>\n",
       "      <td>Lvl</td>\n",
       "      <td>AllPub</td>\n",
       "      <td>...</td>\n",
       "      <td>120</td>\n",
       "      <td>0</td>\n",
       "      <td>NaN</td>\n",
       "      <td>MnPrv</td>\n",
       "      <td>NaN</td>\n",
       "      <td>0</td>\n",
       "      <td>6</td>\n",
       "      <td>2010</td>\n",
       "      <td>WD</td>\n",
       "      <td>Normal</td>\n",
       "    </tr>\n",
       "    <tr>\n",
       "      <th>1</th>\n",
       "      <td>1462</td>\n",
       "      <td>20</td>\n",
       "      <td>RL</td>\n",
       "      <td>81.0</td>\n",
       "      <td>14267</td>\n",
       "      <td>Pave</td>\n",
       "      <td>NaN</td>\n",
       "      <td>IR1</td>\n",
       "      <td>Lvl</td>\n",
       "      <td>AllPub</td>\n",
       "      <td>...</td>\n",
       "      <td>0</td>\n",
       "      <td>0</td>\n",
       "      <td>NaN</td>\n",
       "      <td>NaN</td>\n",
       "      <td>Gar2</td>\n",
       "      <td>12500</td>\n",
       "      <td>6</td>\n",
       "      <td>2010</td>\n",
       "      <td>WD</td>\n",
       "      <td>Normal</td>\n",
       "    </tr>\n",
       "    <tr>\n",
       "      <th>2</th>\n",
       "      <td>1463</td>\n",
       "      <td>60</td>\n",
       "      <td>RL</td>\n",
       "      <td>74.0</td>\n",
       "      <td>13830</td>\n",
       "      <td>Pave</td>\n",
       "      <td>NaN</td>\n",
       "      <td>IR1</td>\n",
       "      <td>Lvl</td>\n",
       "      <td>AllPub</td>\n",
       "      <td>...</td>\n",
       "      <td>0</td>\n",
       "      <td>0</td>\n",
       "      <td>NaN</td>\n",
       "      <td>MnPrv</td>\n",
       "      <td>NaN</td>\n",
       "      <td>0</td>\n",
       "      <td>3</td>\n",
       "      <td>2010</td>\n",
       "      <td>WD</td>\n",
       "      <td>Normal</td>\n",
       "    </tr>\n",
       "    <tr>\n",
       "      <th>3</th>\n",
       "      <td>1464</td>\n",
       "      <td>60</td>\n",
       "      <td>RL</td>\n",
       "      <td>78.0</td>\n",
       "      <td>9978</td>\n",
       "      <td>Pave</td>\n",
       "      <td>NaN</td>\n",
       "      <td>IR1</td>\n",
       "      <td>Lvl</td>\n",
       "      <td>AllPub</td>\n",
       "      <td>...</td>\n",
       "      <td>0</td>\n",
       "      <td>0</td>\n",
       "      <td>NaN</td>\n",
       "      <td>NaN</td>\n",
       "      <td>NaN</td>\n",
       "      <td>0</td>\n",
       "      <td>6</td>\n",
       "      <td>2010</td>\n",
       "      <td>WD</td>\n",
       "      <td>Normal</td>\n",
       "    </tr>\n",
       "    <tr>\n",
       "      <th>4</th>\n",
       "      <td>1465</td>\n",
       "      <td>120</td>\n",
       "      <td>RL</td>\n",
       "      <td>43.0</td>\n",
       "      <td>5005</td>\n",
       "      <td>Pave</td>\n",
       "      <td>NaN</td>\n",
       "      <td>IR1</td>\n",
       "      <td>HLS</td>\n",
       "      <td>AllPub</td>\n",
       "      <td>...</td>\n",
       "      <td>144</td>\n",
       "      <td>0</td>\n",
       "      <td>NaN</td>\n",
       "      <td>NaN</td>\n",
       "      <td>NaN</td>\n",
       "      <td>0</td>\n",
       "      <td>1</td>\n",
       "      <td>2010</td>\n",
       "      <td>WD</td>\n",
       "      <td>Normal</td>\n",
       "    </tr>\n",
       "  </tbody>\n",
       "</table>\n",
       "<p>5 rows × 80 columns</p>\n",
       "</div>"
      ],
      "text/plain": [
       "     Id  MSSubClass MSZoning  LotFrontage  LotArea Street Alley LotShape  \\\n",
       "0  1461          20       RH         80.0    11622   Pave   NaN      Reg   \n",
       "1  1462          20       RL         81.0    14267   Pave   NaN      IR1   \n",
       "2  1463          60       RL         74.0    13830   Pave   NaN      IR1   \n",
       "3  1464          60       RL         78.0     9978   Pave   NaN      IR1   \n",
       "4  1465         120       RL         43.0     5005   Pave   NaN      IR1   \n",
       "\n",
       "  LandContour Utilities  ... ScreenPorch PoolArea PoolQC  Fence MiscFeature  \\\n",
       "0         Lvl    AllPub  ...         120        0    NaN  MnPrv         NaN   \n",
       "1         Lvl    AllPub  ...           0        0    NaN    NaN        Gar2   \n",
       "2         Lvl    AllPub  ...           0        0    NaN  MnPrv         NaN   \n",
       "3         Lvl    AllPub  ...           0        0    NaN    NaN         NaN   \n",
       "4         HLS    AllPub  ...         144        0    NaN    NaN         NaN   \n",
       "\n",
       "  MiscVal MoSold  YrSold  SaleType  SaleCondition  \n",
       "0       0      6    2010        WD         Normal  \n",
       "1   12500      6    2010        WD         Normal  \n",
       "2       0      3    2010        WD         Normal  \n",
       "3       0      6    2010        WD         Normal  \n",
       "4       0      1    2010        WD         Normal  \n",
       "\n",
       "[5 rows x 80 columns]"
      ]
     },
     "execution_count": 18,
     "metadata": {},
     "output_type": "execute_result"
    }
   ],
   "source": [
    "test.head()"
   ]
  },
  {
   "cell_type": "code",
   "execution_count": 20,
   "metadata": {
    "id": "3AOrM6SUm_H9"
   },
   "outputs": [],
   "source": [
    "all_data = pd.concat((train.loc[:,'MSSubClass':'SaleCondition'],\n",
    "                      test.loc[:,'MSSubClass':'SaleCondition']))"
   ]
  },
  {
   "cell_type": "markdown",
   "metadata": {
    "id": "kqV1uE6Rm_H_"
   },
   "source": [
    "Data preprocessing:\n",
    "\n",
    "We're not going to do anything fancy here:\n",
    "\n",
    "    First I'll transform the skewed numeric features by taking log(feature + 1) - this will make the features more normal\n",
    "    Create Dummy variables for the categorical features\n",
    "    Replace the numeric missing values (NaN's) with the mean of their respective columns"
   ]
  },
  {
   "cell_type": "code",
   "execution_count": 21,
   "metadata": {
    "id": "aQ55xTAHm_H_"
   },
   "outputs": [
    {
     "data": {
      "text/plain": [
       "array([[<AxesSubplot:title={'center':'price'}>,\n",
       "        <AxesSubplot:title={'center':'log(price + 1)'}>]], dtype=object)"
      ]
     },
     "execution_count": 21,
     "metadata": {},
     "output_type": "execute_result"
    },
    {
     "data": {
      "image/png": "[encoded data removed]",
      "text/plain": [
       "<Figure size 864x432 with 2 Axes>"
      ]
     },
     "metadata": {
      "image/png": {
       "height": 372,
       "width": 710
      },
      "needs_background": "light"
     },
     "output_type": "display_data"
    }
   ],
   "source": [
    "matplotlib.rcParams['figure.figsize'] = (12.0, 6.0)\n",
    "prices = pd.DataFrame({\"price\":train[\"SalePrice\"], \"log(price + 1)\":np.log1p(train[\"SalePrice\"])})\n",
    "prices.hist()"
   ]
  },
  {
   "cell_type": "code",
   "execution_count": 23,
   "metadata": {
    "id": "Ys3WYvAxm_IC"
   },
   "outputs": [],
   "source": [
    "#log transform the target:\n",
    "train[\"SalePrice\"] = np.log1p(train[\"SalePrice\"])\n",
    "\n",
    "#log transform skewed numeric features:\n",
    "numeric_feats = all_data.dtypes[all_data.dtypes != \"object\"].index\n",
    "\n",
    "skewed_feats = train[numeric_feats].apply(lambda x: skew(x.dropna())) #compute skewness\n",
    "skewed_feats = skewed_feats[skewed_feats > 0.75]\n",
    "skewed_feats = skewed_feats.index\n",
    "\n",
    "all_data[skewed_feats] = np.log1p(all_data[skewed_feats])"
   ]
  },
  {
   "cell_type": "code",
   "execution_count": 24,
   "metadata": {
    "id": "4v6CKjUGm_IE"
   },
   "outputs": [],
   "source": [
    "all_data = pd.get_dummies(all_data)"
   ]
  },
  {
   "cell_type": "code",
   "execution_count": 25,
   "metadata": {
    "id": "dbQLLqMam_IG"
   },
   "outputs": [],
   "source": [
    "#filling NA's with the mean of the column:\n",
    "all_data = all_data.fillna(all_data.mean())"
   ]
  },
  {
   "cell_type": "code",
   "execution_count": 26,
   "metadata": {
    "id": "tksH7C79m_IR"
   },
   "outputs": [],
   "source": [
    "#creating matrices for sklearn:\n",
    "X_train = all_data[:train.shape[0]]\n",
    "X_test = all_data[train.shape[0]:]\n",
    "y = train.SalePrice"
   ]
  },
  {
   "cell_type": "markdown",
   "metadata": {
    "id": "f8RCAEKHm_IT"
   },
   "source": [
    "**2.** Follow the data preprocessing steps from https://www.kaggle.com/apapiu/house-prices-advanced-regression-techniques/regularized-linear-models. Then run a ridge regression usingα= 0.1. Make a submission of this prediction, what is the RMSE you get?(Hint: remember to exponentiate np.expm1(ypred) your predictions)"
   ]
  },
  {
   "cell_type": "code",
   "execution_count": 27,
   "metadata": {
    "id": "fQDYaPodm_IU",
    "tags": []
   },
   "outputs": [
    {
     "name": "stdout",
     "output_type": "stream",
     "text": [
      "Ridge Regression w/ alpha=0.1\n",
      "[11.72517592 11.96283179 12.12635587 ... 12.06416499 11.6994246\n",
      " 12.2948578 ]\n",
      "\n",
      "Kaggle submission RMSE: 0.13565\n"
     ]
    }
   ],
   "source": [
    "from sklearn.linear_model import Ridge, RidgeCV, ElasticNet, LassoLarsCV\n",
    "from sklearn.model_selection import cross_val_score\n",
    "import csv\n",
    "\n",
    "def rmse_cv(model):\n",
    "    rmse= np.sqrt(-cross_val_score(model, X_train, y, scoring=\"neg_mean_squared_error\", cv = 5))\n",
    "    return(rmse)\n",
    "\n",
    "# set up a simple ridge regression with alpha=0.1\n",
    "model_ridge = Ridge(alpha=0.1)\n",
    "model_ridge.fit(X_train, y)\n",
    "model_ridge_prediction = np.expm1(model_ridge.predict(X_test))\n",
    "print('Ridge Regression w/ alpha=0.1')\n",
    "print(model_ridge_prediction)\n",
    "\n",
    "# set up for csv file\n",
    "fields = ['Id', 'SalePrice']\n",
    "rows = []\n",
    "for i,p in enumerate(model_ridge_prediction):\n",
    "    rows.append([test['Id'][i],p])\n",
    "\n",
    "# writing to csv file  \n",
    "with open('lab_3_q3_pt2.csv', 'w') as csvfile:  \n",
    "    # creating a csv writer object  \n",
    "    csvwriter = csv.writer(csvfile)  \n",
    "    # writing the fields  \n",
    "    csvwriter.writerow(fields)  \n",
    "    # writing the data rows  \n",
    "    csvwriter.writerows(rows)\n",
    "\n",
    "# Kaggle score\n",
    "print('\\nKaggle submission RMSE: 0.13565')"
   ]
  },
  {
   "cell_type": "markdown",
   "metadata": {
    "id": "gEWLEreOm_IW"
   },
   "source": [
    "**3.**  Compare a ridge regression and a lasso regression model.  Optimize the alphas using cross validation.  What is the best score you can get from a single ridge regression model and from a single lasso model?"
   ]
  },
  {
   "cell_type": "code",
   "execution_count": 28,
   "metadata": {
    "id": "lgqntpInm_IW",
    "tags": []
   },
   "outputs": [
    {
     "name": "stdout",
     "output_type": "stream",
     "text": [
      "Est RidgeCV RMSE: 0.010753687745495396\n",
      "RidgeCV selected alpha=7.5\n",
      "\n",
      "Est LassoCV RMSE: 0.012008632069007461\n",
      "LassoCV selected alpha=0.0003\n",
      "\n",
      "Ridge Regression using Cross Validation w/ alpha=7.5\n",
      "[11.71773367 11.87078544 12.01694751 ... 11.99813083 11.61329855\n",
      " 12.36838636]\n",
      "\n",
      "Lasso Regression using Cross Validation w/ alpha=0.0003\n",
      "[11.7661303  11.8542499  12.00409147 ... 12.06818024 11.70325298\n",
      " 12.44335173]\n"
     ]
    }
   ],
   "source": [
    "from sklearn.linear_model import Lasso, LassoCV\n",
    "\n",
    "# optimize the alpha value with multiple reruns using prior selected alpha\n",
    "# alphas = [0.05, 0.1, 0.3, 1, 3, 5, (10), 15, 30, 50, 75]\n",
    "# alphas = [5, 5.5, 6, 6.5, 7, 7.5, (8), 8.5, 9, 9.5, 10]\n",
    "alphas = [7.5, 7.6, 7.7, 7.8, 7.9, 8, 8.1, 8.2, 8.3, 8.4, 8.5]\n",
    "\n",
    "model_ridgeCV = RidgeCV(alphas=alphas).fit(X_train, y)\n",
    "print(f'Est RidgeCV RMSE: {rmse_cv(model_ridgeCV).mean()}')\n",
    "print(f'RidgeCV selected alpha={model_ridgeCV.alpha_}\\n')\n",
    "\n",
    "# alphas = [1, 0.1, 0.001, (0.0005)]\n",
    "alphas = [0.0003, 0.0005, 0.001, 0.0015]\n",
    "\n",
    "model_lassoCV = LassoCV(alphas=alphas).fit(X_train, y)\n",
    "print(f'Est LassoCV RMSE: {rmse_cv(model_lassoCV).mean()}')\n",
    "print(f'LassoCV selected alpha={model_lassoCV.alpha_}\\n')\n",
    "\n",
    "# generate predictions with cross validated optimized alphas for ridge and lasso models\n",
    "model_ridgeCV_prediction = np.expm1(model_ridgeCV.predict(X_test))\n",
    "print(f'Ridge Regression using Cross Validation w/ alpha={model_ridgeCV.alpha_}')\n",
    "print(model_ridgeCV_prediction)\n",
    "model_lassoCV_prediction = np.expm1(model_lassoCV.predict(X_test))\n",
    "print(f'\\nLasso Regression using Cross Validation w/ alpha={model_lassoCV.alpha_}')\n",
    "print(model_lassoCV_prediction)"
   ]
  },
  {
   "cell_type": "markdown",
   "metadata": {
    "id": "T2ZcBbEWm_IZ"
   },
   "source": [
    "**4.** Plot the l0 norm (number of nonzeros) of the coefficients that lasso produces as you vary the strength of regularization parameter alpha."
   ]
  },
  {
   "cell_type": "code",
   "execution_count": 29,
   "metadata": {
    "id": "I-sGBvRJm_Ia"
   },
   "outputs": [
    {
     "data": {
      "image/png": "[encoded data removed]",
      "text/plain": [
       "<Figure size 864x432 with 1 Axes>"
      ]
     },
     "metadata": {
      "image/png": {
       "height": 386,
       "width": 717
      },
      "needs_background": "light"
     },
     "output_type": "display_data"
    }
   ],
   "source": [
    "# declare a range of alphas to be tried\n",
    "alphas = [10, 8, 5, 3, 2, 1, 0.5, 0.1, 0.05, 0.01, 0.005, 0.001, 0.0005]\n",
    "l0_norms_list = []\n",
    "\n",
    "# calculate l0 Norms\n",
    "for a in alphas:\n",
    "    model_lasso = Lasso(alpha=a).fit(X_train, y)\n",
    "    l0_norm = 0\n",
    "    for coef in model_lasso.coef_:\n",
    "        if coef != 0:\n",
    "            l0_norm += 1\n",
    "    l0_norms_list.append([l0_norm, a])\n",
    "    \n",
    "# plot l0 Norms to their respective alphas\n",
    "df_l0_norms = pd.DataFrame(l0_norms_list, columns = ['l0 Norm', 'Alpha'])\n",
    "df_l0_norms.plot(title='l0 Norm by Alphas for Lasso Model', x='Alpha', y='l0 Norm', kind = 'scatter')\n",
    "plt.show()"
   ]
  },
  {
   "cell_type": "markdown",
   "metadata": {
    "id": "tK-ApVpCm_Ic"
   },
   "source": [
    "**5.** Add the outputs of your models as features and train a ridge regression on all the features plus the model outputs (This is called Ensembling and Stacking). Be careful not to overfit. What score can you get? (We will be discussing ensembling more, later in the class, but you can start playing with it now)."
   ]
  },
  {
   "cell_type": "code",
   "execution_count": 31,
   "metadata": {
    "id": "TNgjsgg3m_Ic"
   },
   "outputs": [],
   "source": [
    "import math\n",
    "\n",
    "def stack(X_train, X_test, y, num_sections, col_suffix):\n",
    "    ridge_col_name = f'ridge_regression_{col_suffix}'\n",
    "    lasso_col_name = f'lasso_regression_{col_suffix}'\n",
    "    alphas_r = [7.5, 7.6, 7.7, 7.8, 7.9, 8, 8.1, 8.2, 8.3, 8.4, 8.5]\n",
    "    alphas_l = [0.0003, 0.0005, 0.001, 0.0015]\n",
    "    # augment X_train with regression columns\n",
    "    X_train_aug = X_train.reindex(columns = X_train.columns.tolist() + [ridge_col_name,lasso_col_name])\n",
    "    training_length = len(X_train)\n",
    "    section_size = math.floor(training_length / num_sections)\n",
    "    last_section_size = training_length - (section_size * (num_sections - 1))\n",
    "    for i in range(num_sections):\n",
    "        x_section = None\n",
    "        y_section = None\n",
    "        x_test_section = None\n",
    "        if i == num_sections - 1:\n",
    "            x_section = X_train.iloc[i*section_size:]\n",
    "            y_section = y[i*section_size:]\n",
    "            x_test_section = X_train.iloc[0:i*section_size]\n",
    "        else:\n",
    "            x_section = X_train.iloc[i*section_size:(i+1)*section_size]\n",
    "            y_section = y[i*section_size:(i+1)*section_size]\n",
    "            x_test_section = X_train.iloc[np.r_[0:i*section_size, (i+1)*section_size:training_length]]\n",
    "        # print(list(ranges(x_test_section.index.values.tolist())), len(x_test_section))\n",
    "        section_ridgeCV_model = RidgeCV(alphas=alphas_r).fit(x_section, y_section)\n",
    "        section_ridgeCV_prediction = np.expm1(section_ridgeCV_model.predict(x_test_section))\n",
    "        section_lassoCV_model = LassoCV(alphas=alphas_r, tol=0.01).fit(x_section, y_section)\n",
    "        section_lassoCV_prediction = np.expm1(section_lassoCV_model.predict(x_test_section))\n",
    "        curr_s_s = section_size\n",
    "        if i == num_sections - 1:\n",
    "            curr_s_s = last_section_size\n",
    "        k = 0\n",
    "        for j in range(i*section_size, i*section_size + curr_s_s):\n",
    "            if k >= len(section_ridgeCV_prediction):\n",
    "                break\n",
    "            X_train_aug.loc[j,ridge_col_name] = section_ridgeCV_prediction[k]\n",
    "            X_train_aug.loc[j,lasso_col_name] = section_lassoCV_prediction[k]\n",
    "            k += 1\n",
    "    # augment X_test with regression columns\n",
    "    X_test_aug = X_test.reindex(columns = X_test.columns.tolist() + [ridge_col_name,lasso_col_name])\n",
    "    test_ridgeCV_model = RidgeCV(alphas=alphas_r).fit(X_train, y)\n",
    "    test_ridgeCV_prediction = np.expm1(test_ridgeCV_model.predict(X_test))\n",
    "    test_lassoCV_model = LassoCV(alphas=alphas_l, tol=0.01).fit(X_train, y)\n",
    "    test_lassoCV_prediction = np.expm1(test_lassoCV_model.predict(X_test))\n",
    "    for i in range(len(X_test_aug)):\n",
    "        X_test_aug.loc[i, ridge_col_name] = test_ridgeCV_prediction[i]\n",
    "        X_test_aug.loc[i, lasso_col_name] = test_lassoCV_prediction[i]\n",
    "    return [ RidgeCV(alphas=alphas_r).fit(X_train_aug, y), LassoCV(alphas=alphas_l).fit(X_train_aug, y), X_train_aug, X_test_aug ]"
   ]
  },
  {
   "cell_type": "code",
   "execution_count": 32,
   "metadata": {
    "id": "bnQsiJWsm_Ie"
   },
   "outputs": [],
   "source": [
    "stacked_models = stack(X_train, X_test, y, 5, 'round_1')\n",
    "X_train_aug = stacked_models[2]\n",
    "X_test_aug = stacked_models[3]\n",
    "stacked_ridgeCV_model = stacked_models[0]\n",
    "stacked_ridgeCV_prediction = np.expm1(stacked_ridgeCV_model.predict(X_test_aug))\n",
    "stacked_lassoCV_model = stacked_models[1]\n",
    "stacked_lassoCV_prediction = np.expm1(stacked_lassoCV_model.predict(X_test_aug))"
   ]
  },
  {
   "cell_type": "code",
   "execution_count": 34,
   "metadata": {
    "id": "9CXhAhV6NFL5"
   },
   "outputs": [],
   "source": [
    "fields = ['Id', 'SalePrice']\n",
    "rows = []\n",
    "for i,p in enumerate(stacked_ridgeCV_prediction):\n",
    "    rows.append([test['Id'][i],p])\n",
    "with open('lab_3_q3_pt5_r.csv', 'w') as csvfile:  \n",
    "    csvwriter = csv.writer(csvfile)  \n",
    "    csvwriter.writerow(fields)  \n",
    "    csvwriter.writerows(rows)"
   ]
  },
  {
   "cell_type": "code",
   "execution_count": 35,
   "metadata": {
    "id": "le6gLZ4JNHUW"
   },
   "outputs": [],
   "source": [
    "fields = ['Id', 'SalePrice']\n",
    "rows = []\n",
    "for i,p in enumerate(stacked_lassoCV_prediction):\n",
    "    rows.append([test['Id'][i],p])\n",
    "with open('lab_3_q3_pt5_l.csv', 'w') as csvfile:  \n",
    "    csvwriter = csv.writer(csvfile)  \n",
    "    csvwriter.writerow(fields)  \n",
    "    csvwriter.writerows(rows)"
   ]
  },
  {
   "cell_type": "code",
   "execution_count": 36,
   "metadata": {
    "id": "onpZey7ONJAH",
    "tags": []
   },
   "outputs": [
    {
     "name": "stdout",
     "output_type": "stream",
     "text": [
      "Est Stacked RidgeCV RMSE: 0.010753687745495396\n",
      "Est Stacked LassoCV RMSE: 0.012008632069007461\n",
      "Stacked RidgeCV RMSE Kaggle Score: 0.12517\n",
      "Stacked LassoCV RMSE Kaggle Score: 0.12458\n"
     ]
    }
   ],
   "source": [
    "print(f'Est Stacked RidgeCV RMSE: {rmse_cv(stacked_ridgeCV_model).mean()}')\n",
    "print(f'Est Stacked LassoCV RMSE: {rmse_cv(stacked_lassoCV_model).mean()}')\n",
    "\n",
    "print(f'Stacked RidgeCV RMSE Kaggle Score: 0.12517')\n",
    "print(f'Stacked LassoCV RMSE Kaggle Score: 0.12458')"
   ]
  },
  {
   "cell_type": "code",
   "execution_count": null,
   "metadata": {
    "id": "XwWtYxNj8Oky"
   },
   "outputs": [],
   "source": []
  },
  {
   "cell_type": "markdown",
   "metadata": {
    "id": "yerlKvpppunp"
   },
   "source": [
    "**6.** Install XGBoost (Gradient Boosting) and train a gradient boosting regression. What score can you get just from a single XGB? (you will need to optimize over its parameters). We will discuss boosting and gradient boosting in more detail later. XGB is a great friend to all good Kagglers!"
   ]
  },
  {
   "cell_type": "code",
   "execution_count": 38,
   "metadata": {
    "id": "bsL2-NxVpxB1"
   },
   "outputs": [],
   "source": [
    "import xgboost as xgb\n",
    "\n",
    "dtrain = xgb.DMatrix(X_train_aug, label = y)\n",
    "dtest = xgb.DMatrix(X_test_aug)\n",
    "\n",
    "params = {\"max_depth\":2, \"eta\":0.1}\n",
    "# tune params\n",
    "xgb_cv_model = xgb.cv(params, dtrain,  num_boost_round=500, early_stopping_rounds=100)\n",
    "xgb_model = xgb.XGBRegressor(n_estimators=360, max_depth=2, learning_rate=0.1)\n",
    "xgb_model.fit(X_train_aug, y)\n",
    "xgb_model_preds = np.expm1(xgb_model.predict(X_test_aug))"
   ]
  },
  {
   "cell_type": "code",
   "execution_count": 39,
   "metadata": {
    "id": "bW0SPcZ6pys2"
   },
   "outputs": [],
   "source": [
    "fields = ['Id', 'SalePrice']\n",
    "rows = []\n",
    "for i,p in enumerate(xgb_model_preds):\n",
    "    rows.append([test['Id'][i],p])\n",
    "with open('lab_3_q3_pt6.csv', 'w') as csvfile:  \n",
    "    csvwriter = csv.writer(csvfile)  \n",
    "    csvwriter.writerow(fields)  \n",
    "    csvwriter.writerows(rows)"
   ]
  },
  {
   "cell_type": "code",
   "execution_count": 40,
   "metadata": {
    "id": "gmOO5geCpz3W",
    "tags": []
   },
   "outputs": [
    {
     "name": "stdout",
     "output_type": "stream",
     "text": [
      "Est XGBoost RMSE: 0.009768892961427213\n",
      "XGBoost RMSE Kaggle Score: 0.13213\n"
     ]
    }
   ],
   "source": [
    "print(f'Est XGBoost RMSE: {rmse_cv(xgb_model).mean()}')\n",
    "print(f'XGBoost RMSE Kaggle Score: 0.13213')"
   ]
  },
  {
   "cell_type": "markdown",
   "metadata": {
    "id": "SJVRpbxRp136"
   },
   "source": [
    "**7.**  Do your best to get the more accurate model.  Try feature engineering and stacking many models.  You are allowed to use any public tool in python.  No non-python tools allowed."
   ]
  },
  {
   "cell_type": "code",
   "execution_count": 41,
   "metadata": {
    "id": "YGz87CvBp2ZG"
   },
   "outputs": [],
   "source": [
    "# stacked_models = stack(X_train_aug, X_test_aug, y, 5, 'round_2')"
   ]
  },
  {
   "cell_type": "code",
   "execution_count": 42,
   "metadata": {
    "id": "ovhIgqm7p3nN"
   },
   "outputs": [],
   "source": [
    "weighted_predictions = 0.7 * stacked_lassoCV_prediction + 0.3 * xgb_model_preds"
   ]
  },
  {
   "cell_type": "code",
   "execution_count": 43,
   "metadata": {
    "id": "e0pI5irjp4dX"
   },
   "outputs": [],
   "source": [
    "fields = ['Id', 'SalePrice']\n",
    "rows = []\n",
    "for i,p in enumerate(weighted_predictions):\n",
    "    rows.append([test['Id'][i],p])\n",
    "with open('lab_3_q3_pt7.csv', 'w') as csvfile:  \n",
    "    csvwriter = csv.writer(csvfile)  \n",
    "    csvwriter.writerow(fields)  \n",
    "    csvwriter.writerows(rows)"
   ]
  },
  {
   "cell_type": "code",
   "execution_count": 44,
   "metadata": {
    "id": "AgZ1GuEqp5ni",
    "tags": []
   },
   "outputs": [
    {
     "name": "stdout",
     "output_type": "stream",
     "text": [
      "XGBoost RMSE Kaggle Score: 0.12258\n"
     ]
    }
   ],
   "source": [
    "print(f'XGBoost RMSE Kaggle Score: 0.12258')"
   ]
  },
  {
   "cell_type": "markdown",
   "metadata": {
    "id": "H-kFSHsBp8PE"
   },
   "source": [
    "We attempted stacking more than the two suggested models, including multiple lasso and ridge models; we created a stacking function to allow repeated stacking of multiple data sets, and also to allow splitting the training set into various sizes of sections (to avoid overfitting). We did not see any improvement in the RMSE Kaggle score with these methods. XGBoost at first seemed to yield a high RMSE score, close to the simple ridge regression's RMSE score. XGBoost did not yield different results when used on the stacked training & test data. However, the final method we attempted was a weighted combination of predictions from multiple models. We experimented with various weights on three models: the stacked lasso regression predictions, stacked ridge regression predictions, and XGBoost model predictions. The method that improved our Kaggle RMSE score the most was a weighted combination of predictions from the stacked lasso regression model (70%) and the XGBoost model (30%).\n",
    "\n",
    "Our initial ridge regression RMSE Kaggle score was 0.13565.  \n",
    "Our stacked ridge regression RMSE Kaggle score was 0.12517.  \n",
    "Our stacked lasso regression RMSE Kaggle score was 0.12458.  \n",
    "Our XGBoost model RMSE Kaggle score was 0.12854.  \n",
    "Our weighted model (0.7 * stacked_lasso_reg + 0.3 * xgb_model) RMSE Kaggle score was **0.12258**.  \n",
    "The final weighted model produced the best score we could achieve."
   ]
  },
  {
   "cell_type": "code",
   "execution_count": null,
   "metadata": {
    "id": "HDzC_5qqCbPW"
   },
   "outputs": [],
   "source": []
  },
  {
   "cell_type": "code",
   "execution_count": null,
   "metadata": {
    "id": "3iUNywGs8S7e"
   },
   "outputs": [],
   "source": []
  },
  {
   "cell_type": "code",
   "execution_count": null,
   "metadata": {
    "id": "-zUnDjQr8CHv"
   },
   "outputs": [],
   "source": []
  }
 ],
 "metadata": {
  "colab": {
   "collapsed_sections": [],
   "name": "EE460J Lab 3.ipynb",
   "provenance": []
  },
  "kernelspec": {
   "display_name": "Python 3",
   "language": "python",
   "name": "python3"
  },
  "language_info": {
   "codemirror_mode": {
    "name": "ipython",
    "version": 3
   },
   "file_extension": ".py",
   "mimetype": "text/x-python",
   "name": "python",
   "nbconvert_exporter": "python",
   "pygments_lexer": "ipython3",
   "version": "3.7.1"
  }
 },
 "nbformat": 4,
 "nbformat_minor": 1
}
